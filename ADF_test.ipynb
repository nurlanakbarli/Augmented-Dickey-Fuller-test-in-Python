{
 "cells": [
  {
   "cell_type": "code",
   "execution_count": 19,
   "metadata": {},
   "outputs": [],
   "source": [
    "import yfinance as yf\n",
    "import pmdarima\n",
    "import pandas as pd\n",
    "from datetime import datetime\n",
    "import numpy as np\n",
    "import seaborn as sns\n",
    "import matplotlib.pyplot as plt\n",
    "%matplotlib inline\n",
    "from statsmodels.tsa.stattools import adfuller\n",
    "import statsmodels.api as sm\n",
    "import statsmodels.stats.diagnostic as diag\n",
    "import math\n",
    "from statsmodels.tsa.tsatools import lagmat\n"
   ]
  },
  {
   "cell_type": "code",
   "execution_count": 2,
   "metadata": {},
   "outputs": [],
   "source": [
    "start_date = datetime(2020, 1, 1)\n",
    "end_date = datetime(2021, 12, 1)\n",
    "tickers = ['XOM','CVX', 'TTE', 'COP']"
   ]
  },
  {
   "cell_type": "code",
   "execution_count": 3,
   "metadata": {},
   "outputs": [],
   "source": [
    "### function pour telecharger les données\n",
    "\n",
    "def download_stock_data(stock, start_date, end_date):\n",
    "    \n",
    "    stock_data = yf.download(stock, start=start_date, end=end_date)\n",
    "\n",
    "    stock_data.reset_index(inplace=True)\n",
    "\n",
    "    stock_data['Stock'] = stock\n",
    "\n",
    "    return stock_data"
   ]
  },
  {
   "cell_type": "code",
   "execution_count": 4,
   "metadata": {},
   "outputs": [],
   "source": [
    "# fonction pour stocker les donnéées dans un dataframe\n",
    "\n",
    "def aggregate_stocks(stocks, start_date, end_date):\n",
    "    \n",
    "    all_stock_data = []\n",
    "\n",
    "    for stock in stocks:\n",
    "        stock_data = download_stock_data(stock, start_date, end_date)\n",
    "\n",
    "        all_stock_data.append(stock_data)\n",
    "      \n",
    "\n",
    "    Data = pd.concat(all_stock_data, axis=1, keys=tickers)\n",
    "\n",
    "    \n",
    "    return Data"
   ]
  },
  {
   "cell_type": "code",
   "execution_count": 5,
   "metadata": {},
   "outputs": [
    {
     "name": "stdout",
     "output_type": "stream",
     "text": [
      "[*********************100%***********************]  1 of 1 completed\n",
      "[*********************100%***********************]  1 of 1 completed\n",
      "[*********************100%***********************]  1 of 1 completed\n",
      "[*********************100%***********************]  1 of 1 completed\n",
      "<class 'pandas.core.frame.DataFrame'>\n",
      "RangeIndex: 483 entries, 0 to 482\n",
      "Data columns (total 32 columns):\n",
      " #   Column            Non-Null Count  Dtype         \n",
      "---  ------            --------------  -----         \n",
      " 0   (XOM, Date)       483 non-null    datetime64[ns]\n",
      " 1   (XOM, Open)       483 non-null    float64       \n",
      " 2   (XOM, High)       483 non-null    float64       \n",
      " 3   (XOM, Low)        483 non-null    float64       \n",
      " 4   (XOM, Close)      483 non-null    float64       \n",
      " 5   (XOM, Adj Close)  483 non-null    float64       \n",
      " 6   (XOM, Volume)     483 non-null    int64         \n",
      " 7   (XOM, Stock)      483 non-null    object        \n",
      " 8   (CVX, Date)       483 non-null    datetime64[ns]\n",
      " 9   (CVX, Open)       483 non-null    float64       \n",
      " 10  (CVX, High)       483 non-null    float64       \n",
      " 11  (CVX, Low)        483 non-null    float64       \n",
      " 12  (CVX, Close)      483 non-null    float64       \n",
      " 13  (CVX, Adj Close)  483 non-null    float64       \n",
      " 14  (CVX, Volume)     483 non-null    int64         \n",
      " 15  (CVX, Stock)      483 non-null    object        \n",
      " 16  (TTE, Date)       483 non-null    datetime64[ns]\n",
      " 17  (TTE, Open)       483 non-null    float64       \n",
      " 18  (TTE, High)       483 non-null    float64       \n",
      " 19  (TTE, Low)        483 non-null    float64       \n",
      " 20  (TTE, Close)      483 non-null    float64       \n",
      " 21  (TTE, Adj Close)  483 non-null    float64       \n",
      " 22  (TTE, Volume)     483 non-null    int64         \n",
      " 23  (TTE, Stock)      483 non-null    object        \n",
      " 24  (COP, Date)       483 non-null    datetime64[ns]\n",
      " 25  (COP, Open)       483 non-null    float64       \n",
      " 26  (COP, High)       483 non-null    float64       \n",
      " 27  (COP, Low)        483 non-null    float64       \n",
      " 28  (COP, Close)      483 non-null    float64       \n",
      " 29  (COP, Adj Close)  483 non-null    float64       \n",
      " 30  (COP, Volume)     483 non-null    int64         \n",
      " 31  (COP, Stock)      483 non-null    object        \n",
      "dtypes: datetime64[ns](4), float64(20), int64(4), object(4)\n",
      "memory usage: 120.9+ KB\n"
     ]
    }
   ],
   "source": [
    "oil_company = aggregate_stocks(\n",
    "    stocks = tickers, \n",
    "    start_date=start_date,\n",
    "    end_date=end_date\n",
    ")\n",
    "oil_company.info()"
   ]
  },
  {
   "cell_type": "code",
   "execution_count": 6,
   "metadata": {},
   "outputs": [
    {
     "data": {
      "text/html": [
       "<div>\n",
       "<style scoped>\n",
       "    .dataframe tbody tr th:only-of-type {\n",
       "        vertical-align: middle;\n",
       "    }\n",
       "\n",
       "    .dataframe tbody tr th {\n",
       "        vertical-align: top;\n",
       "    }\n",
       "\n",
       "    .dataframe thead tr th {\n",
       "        text-align: left;\n",
       "    }\n",
       "</style>\n",
       "<table border=\"1\" class=\"dataframe\">\n",
       "  <thead>\n",
       "    <tr>\n",
       "      <th></th>\n",
       "      <th colspan=\"8\" halign=\"left\">XOM</th>\n",
       "      <th colspan=\"2\" halign=\"left\">CVX</th>\n",
       "      <th>...</th>\n",
       "      <th colspan=\"2\" halign=\"left\">TTE</th>\n",
       "      <th colspan=\"8\" halign=\"left\">COP</th>\n",
       "    </tr>\n",
       "    <tr>\n",
       "      <th></th>\n",
       "      <th>Date</th>\n",
       "      <th>Open</th>\n",
       "      <th>High</th>\n",
       "      <th>Low</th>\n",
       "      <th>Close</th>\n",
       "      <th>Adj Close</th>\n",
       "      <th>Volume</th>\n",
       "      <th>Stock</th>\n",
       "      <th>Date</th>\n",
       "      <th>Open</th>\n",
       "      <th>...</th>\n",
       "      <th>Volume</th>\n",
       "      <th>Stock</th>\n",
       "      <th>Date</th>\n",
       "      <th>Open</th>\n",
       "      <th>High</th>\n",
       "      <th>Low</th>\n",
       "      <th>Close</th>\n",
       "      <th>Adj Close</th>\n",
       "      <th>Volume</th>\n",
       "      <th>Stock</th>\n",
       "    </tr>\n",
       "  </thead>\n",
       "  <tbody>\n",
       "    <tr>\n",
       "      <th>0</th>\n",
       "      <td>2020-01-02</td>\n",
       "      <td>70.239998</td>\n",
       "      <td>71.019997</td>\n",
       "      <td>70.239998</td>\n",
       "      <td>70.900002</td>\n",
       "      <td>56.088303</td>\n",
       "      <td>12456400</td>\n",
       "      <td>XOM</td>\n",
       "      <td>2020-01-02</td>\n",
       "      <td>120.809998</td>\n",
       "      <td>...</td>\n",
       "      <td>1166500</td>\n",
       "      <td>TTE</td>\n",
       "      <td>2020-01-02</td>\n",
       "      <td>65.279999</td>\n",
       "      <td>65.680000</td>\n",
       "      <td>64.849998</td>\n",
       "      <td>65.459999</td>\n",
       "      <td>54.762154</td>\n",
       "      <td>4122800</td>\n",
       "      <td>COP</td>\n",
       "    </tr>\n",
       "    <tr>\n",
       "      <th>1</th>\n",
       "      <td>2020-01-03</td>\n",
       "      <td>71.339996</td>\n",
       "      <td>71.370003</td>\n",
       "      <td>70.160004</td>\n",
       "      <td>70.330002</td>\n",
       "      <td>55.637375</td>\n",
       "      <td>17386900</td>\n",
       "      <td>XOM</td>\n",
       "      <td>2020-01-03</td>\n",
       "      <td>121.779999</td>\n",
       "      <td>...</td>\n",
       "      <td>1519000</td>\n",
       "      <td>TTE</td>\n",
       "      <td>2020-01-03</td>\n",
       "      <td>67.040001</td>\n",
       "      <td>67.129997</td>\n",
       "      <td>65.070000</td>\n",
       "      <td>65.699997</td>\n",
       "      <td>54.962933</td>\n",
       "      <td>6333200</td>\n",
       "      <td>COP</td>\n",
       "    </tr>\n",
       "    <tr>\n",
       "      <th>2</th>\n",
       "      <td>2020-01-06</td>\n",
       "      <td>70.320000</td>\n",
       "      <td>71.360001</td>\n",
       "      <td>70.230003</td>\n",
       "      <td>70.870003</td>\n",
       "      <td>56.064571</td>\n",
       "      <td>20081900</td>\n",
       "      <td>XOM</td>\n",
       "      <td>2020-01-06</td>\n",
       "      <td>121.239998</td>\n",
       "      <td>...</td>\n",
       "      <td>3516900</td>\n",
       "      <td>TTE</td>\n",
       "      <td>2020-01-06</td>\n",
       "      <td>66.279999</td>\n",
       "      <td>66.940002</td>\n",
       "      <td>65.879997</td>\n",
       "      <td>66.480003</td>\n",
       "      <td>55.615459</td>\n",
       "      <td>8823800</td>\n",
       "      <td>COP</td>\n",
       "    </tr>\n",
       "    <tr>\n",
       "      <th>3</th>\n",
       "      <td>2020-01-07</td>\n",
       "      <td>70.500000</td>\n",
       "      <td>70.519997</td>\n",
       "      <td>69.510002</td>\n",
       "      <td>70.290001</td>\n",
       "      <td>55.605747</td>\n",
       "      <td>17387700</td>\n",
       "      <td>XOM</td>\n",
       "      <td>2020-01-07</td>\n",
       "      <td>119.019997</td>\n",
       "      <td>...</td>\n",
       "      <td>2463000</td>\n",
       "      <td>TTE</td>\n",
       "      <td>2020-01-07</td>\n",
       "      <td>66.440002</td>\n",
       "      <td>66.489998</td>\n",
       "      <td>65.739998</td>\n",
       "      <td>66.480003</td>\n",
       "      <td>55.615459</td>\n",
       "      <td>5974800</td>\n",
       "      <td>COP</td>\n",
       "    </tr>\n",
       "    <tr>\n",
       "      <th>4</th>\n",
       "      <td>2020-01-08</td>\n",
       "      <td>70.110001</td>\n",
       "      <td>70.290001</td>\n",
       "      <td>69.169998</td>\n",
       "      <td>69.230003</td>\n",
       "      <td>54.767178</td>\n",
       "      <td>15137700</td>\n",
       "      <td>XOM</td>\n",
       "      <td>2020-01-08</td>\n",
       "      <td>118.550003</td>\n",
       "      <td>...</td>\n",
       "      <td>2831400</td>\n",
       "      <td>TTE</td>\n",
       "      <td>2020-01-08</td>\n",
       "      <td>66.449997</td>\n",
       "      <td>66.629997</td>\n",
       "      <td>64.519997</td>\n",
       "      <td>64.940002</td>\n",
       "      <td>54.327148</td>\n",
       "      <td>6470100</td>\n",
       "      <td>COP</td>\n",
       "    </tr>\n",
       "  </tbody>\n",
       "</table>\n",
       "<p>5 rows × 32 columns</p>\n",
       "</div>"
      ],
      "text/plain": [
       "         XOM                                                                   \\\n",
       "        Date       Open       High        Low      Close  Adj Close    Volume   \n",
       "0 2020-01-02  70.239998  71.019997  70.239998  70.900002  56.088303  12456400   \n",
       "1 2020-01-03  71.339996  71.370003  70.160004  70.330002  55.637375  17386900   \n",
       "2 2020-01-06  70.320000  71.360001  70.230003  70.870003  56.064571  20081900   \n",
       "3 2020-01-07  70.500000  70.519997  69.510002  70.290001  55.605747  17387700   \n",
       "4 2020-01-08  70.110001  70.290001  69.169998  69.230003  54.767178  15137700   \n",
       "\n",
       "               CVX              ...      TTE              COP             \\\n",
       "  Stock       Date        Open  ...   Volume Stock       Date       Open   \n",
       "0   XOM 2020-01-02  120.809998  ...  1166500   TTE 2020-01-02  65.279999   \n",
       "1   XOM 2020-01-03  121.779999  ...  1519000   TTE 2020-01-03  67.040001   \n",
       "2   XOM 2020-01-06  121.239998  ...  3516900   TTE 2020-01-06  66.279999   \n",
       "3   XOM 2020-01-07  119.019997  ...  2463000   TTE 2020-01-07  66.440002   \n",
       "4   XOM 2020-01-08  118.550003  ...  2831400   TTE 2020-01-08  66.449997   \n",
       "\n",
       "                                                              \n",
       "        High        Low      Close  Adj Close   Volume Stock  \n",
       "0  65.680000  64.849998  65.459999  54.762154  4122800   COP  \n",
       "1  67.129997  65.070000  65.699997  54.962933  6333200   COP  \n",
       "2  66.940002  65.879997  66.480003  55.615459  8823800   COP  \n",
       "3  66.489998  65.739998  66.480003  55.615459  5974800   COP  \n",
       "4  66.629997  64.519997  64.940002  54.327148  6470100   COP  \n",
       "\n",
       "[5 rows x 32 columns]"
      ]
     },
     "execution_count": 6,
     "metadata": {},
     "output_type": "execute_result"
    }
   ],
   "source": [
    "oil_company.head()"
   ]
  },
  {
   "cell_type": "code",
   "execution_count": 7,
   "metadata": {},
   "outputs": [
    {
     "data": {
      "text/html": [
       "<div>\n",
       "<style scoped>\n",
       "    .dataframe tbody tr th:only-of-type {\n",
       "        vertical-align: middle;\n",
       "    }\n",
       "\n",
       "    .dataframe tbody tr th {\n",
       "        vertical-align: top;\n",
       "    }\n",
       "\n",
       "    .dataframe thead th {\n",
       "        text-align: right;\n",
       "    }\n",
       "</style>\n",
       "<table border=\"1\" class=\"dataframe\">\n",
       "  <thead>\n",
       "    <tr style=\"text-align: right;\">\n",
       "      <th></th>\n",
       "      <th>XOM_price</th>\n",
       "      <th>CVX_price</th>\n",
       "      <th>TTE_price</th>\n",
       "      <th>COP_price</th>\n",
       "    </tr>\n",
       "    <tr>\n",
       "      <th>Date</th>\n",
       "      <th></th>\n",
       "      <th></th>\n",
       "      <th></th>\n",
       "      <th></th>\n",
       "    </tr>\n",
       "  </thead>\n",
       "  <tbody>\n",
       "    <tr>\n",
       "      <th>2020-01-02</th>\n",
       "      <td>56.088303</td>\n",
       "      <td>98.217049</td>\n",
       "      <td>41.213535</td>\n",
       "      <td>54.762154</td>\n",
       "    </tr>\n",
       "    <tr>\n",
       "      <th>2020-01-03</th>\n",
       "      <td>55.637375</td>\n",
       "      <td>97.877335</td>\n",
       "      <td>41.362671</td>\n",
       "      <td>54.962933</td>\n",
       "    </tr>\n",
       "    <tr>\n",
       "      <th>2020-01-06</th>\n",
       "      <td>56.064571</td>\n",
       "      <td>97.545692</td>\n",
       "      <td>42.138172</td>\n",
       "      <td>55.615459</td>\n",
       "    </tr>\n",
       "    <tr>\n",
       "      <th>2020-01-07</th>\n",
       "      <td>55.605747</td>\n",
       "      <td>96.300095</td>\n",
       "      <td>41.899551</td>\n",
       "      <td>55.615459</td>\n",
       "    </tr>\n",
       "    <tr>\n",
       "      <th>2020-01-08</th>\n",
       "      <td>54.767178</td>\n",
       "      <td>95.200089</td>\n",
       "      <td>41.646023</td>\n",
       "      <td>54.327148</td>\n",
       "    </tr>\n",
       "  </tbody>\n",
       "</table>\n",
       "</div>"
      ],
      "text/plain": [
       "            XOM_price  CVX_price  TTE_price  COP_price\n",
       "Date                                                  \n",
       "2020-01-02  56.088303  98.217049  41.213535  54.762154\n",
       "2020-01-03  55.637375  97.877335  41.362671  54.962933\n",
       "2020-01-06  56.064571  97.545692  42.138172  55.615459\n",
       "2020-01-07  55.605747  96.300095  41.899551  55.615459\n",
       "2020-01-08  54.767178  95.200089  41.646023  54.327148"
      ]
     },
     "execution_count": 7,
     "metadata": {},
     "output_type": "execute_result"
    }
   ],
   "source": [
    "price =pd.DataFrame()\n",
    "for tick in tickers:\n",
    "    price[f'{tick}_price'] = oil_company[tick]['Adj Close']\n",
    "price.index= oil_company[tickers[0]]['Date']\n",
    "price.head()"
   ]
  },
  {
   "cell_type": "code",
   "execution_count": 8,
   "metadata": {},
   "outputs": [
    {
     "data": {
      "image/png": "[encoded data removed]",
      "text/plain": [
       "<Figure size 1000x600 with 1 Axes>"
      ]
     },
     "metadata": {},
     "output_type": "display_data"
    }
   ],
   "source": [
    "price['XOM_price'].plot(style=\"-\", figsize=(10, 6), title=\"ExxonMobil\")\n",
    "plt.ylabel('Price')\n",
    "plt.show()"
   ]
  },
  {
   "cell_type": "code",
   "execution_count": 9,
   "metadata": {},
   "outputs": [
    {
     "data": {
      "image/png": "[encoded data removed]",
      "text/plain": [
       "<Figure size 1200x800 with 2 Axes>"
      ]
     },
     "metadata": {},
     "output_type": "display_data"
    }
   ],
   "source": [
    "fig, ax = plt.subplots(2, 1, figsize=(12, 8))\n",
    "sm.graphics.tsa.plot_acf(price['XOM_price'], lags=20, ax=ax[0])\n",
    "ax[0].set_title('Autocorrelation (ACF)')\n",
    "sm.graphics.tsa.plot_pacf(price['XOM_price'], lags=20, ax=ax[1])\n",
    "ax[1].set_title('Partial Autocorrelation (PACF)')\n",
    "plt.tight_layout()\n",
    "plt.show()\n"
   ]
  },
  {
   "cell_type": "code",
   "execution_count": 11,
   "metadata": {},
   "outputs": [
    {
     "data": {
      "text/html": [
       "<div>\n",
       "<style scoped>\n",
       "    .dataframe tbody tr th:only-of-type {\n",
       "        vertical-align: middle;\n",
       "    }\n",
       "\n",
       "    .dataframe tbody tr th {\n",
       "        vertical-align: top;\n",
       "    }\n",
       "\n",
       "    .dataframe thead th {\n",
       "        text-align: right;\n",
       "    }\n",
       "</style>\n",
       "<table border=\"1\" class=\"dataframe\">\n",
       "  <thead>\n",
       "    <tr style=\"text-align: right;\">\n",
       "      <th></th>\n",
       "      <th>Price</th>\n",
       "      <th>log</th>\n",
       "    </tr>\n",
       "    <tr>\n",
       "      <th>Date</th>\n",
       "      <th></th>\n",
       "      <th></th>\n",
       "    </tr>\n",
       "  </thead>\n",
       "  <tbody>\n",
       "    <tr>\n",
       "      <th>2020-01-02</th>\n",
       "      <td>56.088303</td>\n",
       "      <td>4.026927</td>\n",
       "    </tr>\n",
       "    <tr>\n",
       "      <th>2020-01-03</th>\n",
       "      <td>55.637375</td>\n",
       "      <td>4.018855</td>\n",
       "    </tr>\n",
       "    <tr>\n",
       "      <th>2020-01-06</th>\n",
       "      <td>56.064571</td>\n",
       "      <td>4.026504</td>\n",
       "    </tr>\n",
       "    <tr>\n",
       "      <th>2020-01-07</th>\n",
       "      <td>55.605747</td>\n",
       "      <td>4.018287</td>\n",
       "    </tr>\n",
       "    <tr>\n",
       "      <th>2020-01-08</th>\n",
       "      <td>54.767178</td>\n",
       "      <td>4.003091</td>\n",
       "    </tr>\n",
       "  </tbody>\n",
       "</table>\n",
       "</div>"
      ],
      "text/plain": [
       "                Price       log\n",
       "Date                           \n",
       "2020-01-02  56.088303  4.026927\n",
       "2020-01-03  55.637375  4.018855\n",
       "2020-01-06  56.064571  4.026504\n",
       "2020-01-07  55.605747  4.018287\n",
       "2020-01-08  54.767178  4.003091"
      ]
     },
     "execution_count": 11,
     "metadata": {},
     "output_type": "execute_result"
    }
   ],
   "source": [
    "XOM = pd.DataFrame()\n",
    "XOM['Price']= price['XOM_price']\n",
    "XOM['log'] = [math.log(i) for i in XOM['Price']]\n",
    "XOM.head()\n"
   ]
  },
  {
   "cell_type": "code",
   "execution_count": 12,
   "metadata": {},
   "outputs": [
    {
     "data": {
      "image/png": "[encoded data removed]",
      "text/plain": [
       "<Figure size 1000x600 with 1 Axes>"
      ]
     },
     "metadata": {},
     "output_type": "display_data"
    }
   ],
   "source": [
    "XOM['log'].plot(style=\"-\", figsize=(10, 6), title=\"ExxonMobil\")\n",
    "plt.ylabel('log price')\n",
    "plt.show()"
   ]
  },
  {
   "cell_type": "code",
   "execution_count": 13,
   "metadata": {},
   "outputs": [
    {
     "name": "stdout",
     "output_type": "stream",
     "text": [
      "<class 'pandas.core.frame.DataFrame'>\n",
      "DatetimeIndex: 483 entries, 2020-01-02 to 2021-11-30\n",
      "Data columns (total 2 columns):\n",
      " #   Column  Non-Null Count  Dtype  \n",
      "---  ------  --------------  -----  \n",
      " 0   Price   483 non-null    float64\n",
      " 1   log     483 non-null    float64\n",
      "dtypes: float64(2)\n",
      "memory usage: 11.3 KB\n"
     ]
    }
   ],
   "source": [
    "XOM.info()"
   ]
  },
  {
   "cell_type": "code",
   "execution_count": 14,
   "metadata": {},
   "outputs": [
    {
     "data": {
      "text/plain": [
       "Price    0\n",
       "log      0\n",
       "dtype: int64"
      ]
     },
     "execution_count": 14,
     "metadata": {},
     "output_type": "execute_result"
    }
   ],
   "source": [
    "XOM.isnull().sum()"
   ]
  },
  {
   "cell_type": "markdown",
   "metadata": {},
   "source": [
    "We have prepared the data well, and now we can start analyzing the time series. \n",
    "\n",
    "The first step in time series analysis is to check whether the series is stationary or not."
   ]
  },
  {
   "cell_type": "markdown",
   "metadata": {},
   "source": [
    "The ADF test: This test helps determine whether a time series has a unit root, which implies that it is non-stationary and follows a random process.\n",
    "\n",
    "There are several versions of this test: with both a constant and a trend, or with just a constant, etc. In addition, we can add lags in the regression if necessary."
   ]
  },
  {
   "cell_type": "markdown",
   "metadata": {},
   "source": [
    "We will follow the algorithm of ADF test. \n",
    "\n"
   ]
  },
  {
   "cell_type": "markdown",
   "metadata": {},
   "source": [
    "First, we start with Model 3, which is based on the regression with both a trend and a constant.\n",
    "\n",
    "To do this, we will do the ADF test on the normal series, meaning on 𝑋_𝑡 not on Δ𝑋_𝑡\n",
    "\n",
    "The goal is to check if the series has a unit root and also to determine the number of lags."
   ]
  },
  {
   "cell_type": "markdown",
   "metadata": {},
   "source": []
  },
  {
   "cell_type": "markdown",
   "metadata": {},
   "source": []
  },
  {
   "cell_type": "code",
   "execution_count": 16,
   "metadata": {},
   "outputs": [
    {
     "name": "stdout",
     "output_type": "stream",
     "text": [
      "Test Statistic             -3.195375\n",
      "p-value                     0.085327\n",
      "Lag Used                   10.000000\n",
      "Number of Observations    472.000000\n",
      "Critical Value 1%          -3.978079\n",
      "Critical Value 5%          -3.419833\n",
      "Critical Value 10%         -3.132546\n",
      "dtype: float64\n"
     ]
    }
   ],
   "source": [
    "\n",
    "\n",
    "adf_test = adfuller(XOM['log'], regression = 'ct', autolag='AIC')\n",
    "\n",
    "df_output = pd.Series(adf_test[0:4], index=['Test Statistic', 'p-value', 'Lag Used', 'Number of Observations'])\n",
    "\n",
    "# Ajouter les valeurs critiques au DataFrame\n",
    "for key, value in adf_test[4].items():\n",
    "    df_output[f'Critical Value {key}'] = value\n",
    "\n",
    "print(df_output)\n"
   ]
  },
  {
   "cell_type": "markdown",
   "metadata": {},
   "source": [
    "If the p-value > 0.05, we accept H0, which refers to the presence of a unit root, in other words, the non-stationarity of the series.\n",
    "\n",
    "\n",
    "\n",
    "We see that the p-value is equal to 0.08, so we accept H0. To correct the non-stationarity, we will apply the first difference to the series. After that, we will run an OLS regression on the first difference values. In other words, the first difference value will be the dependent variable. For the explanatory variables, we will include the trend and the constant as well as the lags of the differenced value. Based on the Akaike Information Criterion (AIC), we will choose the number of lags. Above, we see that \"Lag Used\" is 10 based on AIC, so we will add all these lags into regression.\n",
    "\n",
    "\n",
    "\n",
    "\n",
    "Model 3 has two joint hypotheses :\n",
    "\n",
    "H0_3: (c, b, 𝜌) = (c, 0, 0)\n",
    "\n",
    "H0_2: (c, b, 𝜌) = (0, 0, 0)\n",
    "\n",
    "\n",
    "\n",
    "ρ = 0 which indicates the absence of a unit root\n",
    "\n",
    "c = c which indicates the presence of a constant\n",
    "\n",
    "b = 0, which indicates the absence of a trend\n"
   ]
  },
  {
   "cell_type": "markdown",
   "metadata": {},
   "source": [
    "First, we start by testing hypothesis H0_3. To do this, we will perform the following regression:\n",
    "\n",
    "ΔX_t = ( ρ * X_{t-1} ) + c + (b * t) + ( ΣΦ_j * ΔX_{t-j} ) + ε_t\n",
    "\n",
    "Note : ΣΦ_j * ΔX_{t-j} depends on the number of lags. \n",
    "\n",
    "j is the number of lag\n",
    "\n",
    "Φ is the coefficient of the lags\n",
    "\n",
    "ΔX_{t-j} are the lags\n",
    "\n",
    "\n",
    "Imagine there is 2 lags: ( Φ_1 * ΔX_{t-1} ) + ( Φ_2 * ΔX_{t-2} )"
   ]
  },
  {
   "cell_type": "code",
   "execution_count": 20,
   "metadata": {},
   "outputs": [
    {
     "name": "stdout",
     "output_type": "stream",
     "text": [
      " Sum of Squared Residuals (SCR) of the unconstrained model : 0.330154539069259\n",
      "\n",
      "\n",
      "                            OLS Regression Results                            \n",
      "==============================================================================\n",
      "Dep. Variable:                    log   R-squared:                       0.090\n",
      "Model:                            OLS   Adj. R-squared:                  0.066\n",
      "Method:                 Least Squares   F-statistic:                     3.782\n",
      "Date:                Mon, 16 Sep 2024   Prob (F-statistic):           1.69e-05\n",
      "Time:                        20:57:32   Log-Likelihood:                 1044.8\n",
      "No. Observations:                 472   AIC:                            -2064.\n",
      "Df Residuals:                     459   BIC:                            -2010.\n",
      "Df Model:                          12                                         \n",
      "Covariance Type:            nonrobust                                         \n",
      "==============================================================================\n",
      "                 coef    std err          t      P>|t|      [0.025      0.975]\n",
      "------------------------------------------------------------------------------\n",
      "const          0.0776      0.025      3.073      0.002       0.028       0.127\n",
      "ΔX_t-1        -0.0426      0.046     -0.924      0.356      -0.133       0.048\n",
      "ΔX_t-2         0.0411      0.046      0.892      0.373      -0.049       0.132\n",
      "ΔX_t-3        -0.0855      0.046     -1.858      0.064      -0.176       0.005\n",
      "ΔX_t-4         0.0321      0.046      0.701      0.484      -0.058       0.122\n",
      "ΔX_t-5         0.1269      0.046      2.765      0.006       0.037       0.217\n",
      "ΔX_t-6        -0.0148      0.046     -0.323      0.747      -0.105       0.075\n",
      "ΔX_t-7         0.1303      0.046      2.827      0.005       0.040       0.221\n",
      "ΔX_t-8        -0.0793      0.046     -1.713      0.087      -0.170       0.012\n",
      "ΔX_t-9        -0.0012      0.046     -0.025      0.980      -0.092       0.090\n",
      "ΔX_t-10        0.0965      0.046      2.082      0.038       0.005       0.188\n",
      "Y_{t-1}       -0.0231      0.007     -3.195      0.001      -0.037      -0.009\n",
      "trend       3.627e-05   1.22e-05      2.980      0.003    1.23e-05    6.02e-05\n",
      "==============================================================================\n",
      "Omnibus:                       30.653   Durbin-Watson:                   1.997\n",
      "Prob(Omnibus):                  0.000   Jarque-Bera (JB):              109.554\n",
      "Skew:                          -0.077   Prob(JB):                     1.62e-24\n",
      "Kurtosis:                       5.355   Cond. No.                     1.15e+04\n",
      "==============================================================================\n",
      "\n",
      "Notes:\n",
      "[1] Standard Errors assume that the covariance matrix of the errors is correctly specified.\n",
      "[2] The condition number is large, 1.15e+04. This might indicate that there are\n",
      "strong multicollinearity or other numerical problems.\n"
     ]
    }
   ],
   "source": [
    "X = XOM['log']\n",
    "\n",
    "ΔX = X.diff().dropna()\n",
    "\n",
    "X_lagged = X.shift(1).dropna()\n",
    "\n",
    "p = adf_test[2] \n",
    "lagged_diff = lagmat(ΔX, maxlag=p, trim='both')  \n",
    "\n",
    "ΔX = ΔX.iloc[p:]  \n",
    "X_lagged = X_lagged.iloc[p:]  \n",
    "\n",
    "n = len(ΔX)\n",
    "t = np.arange(n)\n",
    "\n",
    "Z = pd.DataFrame(lagged_diff[:, :p], columns=[f\"ΔX_t-{i}\" for i in range(1, p+1)], index=ΔX.index)\n",
    "Z['Y_{t-1}'] = X_lagged.values\n",
    "Z['trend'] = t\n",
    "Z = sm.add_constant(Z)  \n",
    "\n",
    "model_3 = sm.OLS(ΔX, Z)\n",
    "results = model_3.fit()\n",
    "\n",
    "SCR3 = results.ssr\n",
    "\n",
    "print(f\" Sum of Squared Residuals (SCR) of the unconstrained model3 : {SCR3}\")\n",
    "print(\"\\n\")\n",
    "print(results.summary())\n"
   ]
  },
  {
   "cell_type": "markdown",
   "metadata": {},
   "source": [
    "The constrained model only includes a constant: that is, the regression is performed between ΔX, its lags, and the constant.\n",
    "\n",
    "We refer to it as the constrained model because we impose limits in the regression by excluding 𝜌 and 𝑡; we assume they are zero and perform the regression accordingly"
   ]
  },
  {
   "cell_type": "code",
   "execution_count": 23,
   "metadata": {},
   "outputs": [
    {
     "name": "stdout",
     "output_type": "stream",
     "text": [
      "Sum of Squared Residuals (SCR) of the first_contrained_model: 0.33855268167942854\n",
      "                            OLS Regression Results                            \n",
      "==============================================================================\n",
      "Dep. Variable:                    log   R-squared:                       0.067\n",
      "Model:                            OLS   Adj. R-squared:                  0.047\n",
      "Method:                 Least Squares   F-statistic:                     3.301\n",
      "Date:                Mon, 16 Sep 2024   Prob (F-statistic):           0.000377\n",
      "Time:                        21:01:01   Log-Likelihood:                 1038.9\n",
      "No. Observations:                 472   AIC:                            -2056.\n",
      "Df Residuals:                     461   BIC:                            -2010.\n",
      "Df Model:                          10                                         \n",
      "Covariance Type:            nonrobust                                         \n",
      "==============================================================================\n",
      "                 coef    std err          t      P>|t|      [0.025      0.975]\n",
      "------------------------------------------------------------------------------\n",
      "const      -1.673e-05      0.001     -0.013      0.989      -0.002       0.002\n",
      "ΔX_1          -0.0407      0.046     -0.877      0.381      -0.132       0.051\n",
      "ΔX_2           0.0440      0.046      0.946      0.345      -0.047       0.135\n",
      "ΔX_3          -0.0831      0.046     -1.790      0.074      -0.174       0.008\n",
      "ΔX_4           0.0360      0.046      0.780      0.436      -0.055       0.127\n",
      "ΔX_5           0.1301      0.046      2.811      0.005       0.039       0.221\n",
      "ΔX_6          -0.0157      0.046     -0.339      0.735      -0.107       0.075\n",
      "ΔX_7           0.1307      0.046      2.818      0.005       0.040       0.222\n",
      "ΔX_8          -0.0815      0.047     -1.749      0.081      -0.173       0.010\n",
      "ΔX_9          -0.0017      0.047     -0.036      0.972      -0.093       0.090\n",
      "ΔX_10          0.0964      0.047      2.064      0.040       0.005       0.188\n",
      "==============================================================================\n",
      "Omnibus:                       34.610   Durbin-Watson:                   1.996\n",
      "Prob(Omnibus):                  0.000   Jarque-Bera (JB):              138.074\n",
      "Skew:                          -0.090   Prob(JB):                     1.04e-30\n",
      "Kurtosis:                       5.644   Cond. No.                         42.2\n",
      "==============================================================================\n",
      "\n",
      "Notes:\n",
      "[1] Standard Errors assume that the covariance matrix of the errors is correctly specified.\n"
     ]
    }
   ],
   "source": [
    "Z = pd.DataFrame(lagged_diff[:, :p], columns=[f\"ΔX_{i}\" for i in range(1, p+1)], index=ΔX.index)\n",
    "\n",
    "Z = sm.add_constant(Z)  \n",
    "\n",
    "first_contrained_model = sm.OLS(ΔX, Z)\n",
    "results = first_contrained_model.fit()\n",
    "\n",
    "SCR3_C1 = results.ssr\n",
    "print(f\"Sum of Squared Residuals (SCR) of the first_constrained_model: {SCR3_C1}\")\n",
    "\n",
    "print(results.summary())\n",
    "\n",
    "\n"
   ]
  },
  {
   "cell_type": "markdown",
   "metadata": {},
   "source": [
    "\n",
    "F3= [(SCR3_C−SCR3)/2] / [SCR3/(n−p−3)]\n",
    "\n",
    "if F3 < Φ3 Then H0_3 accepted\n",
    "\n",
    "​\n",
    "SCR3_C1 = Sum of Squared Residuals (SCR) of the constrained model1\n",
    "\n",
    "SCR3 = Sum squared residuals of the unconstrained model \n",
    "\n",
    "Φ3 = 6.30  for over 500 samples and 0.95 probability"
   ]
  },
  {
   "cell_type": "code",
   "execution_count": 22,
   "metadata": {},
   "outputs": [
    {
     "data": {
      "text/plain": [
       "5.837792612112432"
      ]
     },
     "execution_count": 22,
     "metadata": {},
     "output_type": "execute_result"
    }
   ],
   "source": [
    "F3 = ((SCR3_C1 - SCR3)/2) / (SCR3/(n-p-3))\n",
    "F3"
   ]
  },
  {
   "cell_type": "markdown",
   "metadata": {},
   "source": [
    "We accept H0_3 and proceed to analyze the next hypothesis"
   ]
  },
  {
   "cell_type": "markdown",
   "metadata": {},
   "source": [
    "To analyse H0_2, we perform the regression between Δ𝑋 and the lags of Δ𝑋, since there are no other parameters in the model"
   ]
  },
  {
   "cell_type": "code",
   "execution_count": 24,
   "metadata": {},
   "outputs": [
    {
     "name": "stdout",
     "output_type": "stream",
     "text": [
      "Sum of Squared Residuals (SCR) of the second_constrained_model : 0.33855281371432916\n",
      "\n",
      "\n",
      "                                 OLS Regression Results                                \n",
      "=======================================================================================\n",
      "Dep. Variable:                    log   R-squared (uncentered):                   0.067\n",
      "Model:                            OLS   Adj. R-squared (uncentered):              0.047\n",
      "Method:                 Least Squares   F-statistic:                              3.308\n",
      "Date:                Mon, 16 Sep 2024   Prob (F-statistic):                    0.000367\n",
      "Time:                        21:01:13   Log-Likelihood:                          1038.9\n",
      "No. Observations:                 472   AIC:                                     -2058.\n",
      "Df Residuals:                     462   BIC:                                     -2016.\n",
      "Df Model:                          10                                                  \n",
      "Covariance Type:            nonrobust                                                  \n",
      "==============================================================================\n",
      "                 coef    std err          t      P>|t|      [0.025      0.975]\n",
      "------------------------------------------------------------------------------\n",
      "ΔX_1          -0.0407      0.046     -0.878      0.380      -0.132       0.050\n",
      "ΔX_2           0.0440      0.046      0.947      0.344      -0.047       0.135\n",
      "ΔX_3          -0.0831      0.046     -1.792      0.074      -0.174       0.008\n",
      "ΔX_4           0.0360      0.046      0.781      0.435      -0.055       0.127\n",
      "ΔX_5           0.1301      0.046      2.814      0.005       0.039       0.221\n",
      "ΔX_6          -0.0157      0.046     -0.339      0.735      -0.106       0.075\n",
      "ΔX_7           0.1307      0.046      2.821      0.005       0.040       0.222\n",
      "ΔX_8          -0.0815      0.047     -1.751      0.081      -0.173       0.010\n",
      "ΔX_9          -0.0017      0.047     -0.036      0.972      -0.093       0.090\n",
      "ΔX_10          0.0964      0.047      2.067      0.039       0.005       0.188\n",
      "==============================================================================\n",
      "Omnibus:                       34.610   Durbin-Watson:                   1.996\n",
      "Prob(Omnibus):                  0.000   Jarque-Bera (JB):              138.075\n",
      "Skew:                          -0.090   Prob(JB):                     1.04e-30\n",
      "Kurtosis:                       5.644   Cond. No.                         1.44\n",
      "==============================================================================\n",
      "\n",
      "Notes:\n",
      "[1] R² is computed without centering (uncentered) since the model does not contain a constant.\n",
      "[2] Standard Errors assume that the covariance matrix of the errors is correctly specified.\n"
     ]
    }
   ],
   "source": [
    "\n",
    "Z = pd.DataFrame(lagged_diff[:, :p], columns=[f\"ΔX_{i}\" for i in range(1, p+1)], index=ΔX.index)\n",
    "\n",
    "second_constrained_model = sm.OLS(ΔX, Z)\n",
    "results = second_constrained_model.fit()\n",
    "\n",
    "SCR3_C2 = results.ssr\n",
    "print(f\"Sum of Squared Residuals (SCR) of the second_constrained_model : {SCR3_C2}\")\n",
    "print(\"\\n\")\n",
    "print(results.summary())\n"
   ]
  },
  {
   "cell_type": "markdown",
   "metadata": {},
   "source": [
    "H0_2 : \n",
    "(c,b,ρ) = (0,0,0)\n",
    "\n",
    "F2= [(SCR3.C2−SCR3)/3] / [SCR3/(n−p−3)]\n",
    "\n",
    "SCR3_C2 = Sum of Squared Residuals (SCR) of the second constrained model\n",
    " \n",
    "\n",
    "Φ2 =  4.68\n",
    "\n",
    "if F2 < Φ2 Then H0.2 accepted"
   ]
  },
  {
   "cell_type": "code",
   "execution_count": 25,
   "metadata": {},
   "outputs": [
    {
     "data": {
      "text/plain": [
       "3.8919229289353545"
      ]
     },
     "execution_count": 25,
     "metadata": {},
     "output_type": "execute_result"
    }
   ],
   "source": [
    "F2 = ((SCR3_C2 - SCR3)/3) / (SCR3/(n-p-3))\n",
    "F2"
   ]
  },
  {
   "cell_type": "markdown",
   "metadata": {},
   "source": [
    "Since F2 < Φ2, we accept H0_2\n",
    "\n",
    "\n",
    "Model 3 is done, now we move on to Model 2.\n",
    "\n",
    "In Model 2, we will perform the regression with only the constant, and the dependent variable will still be X_t initially"
   ]
  },
  {
   "cell_type": "code",
   "execution_count": 26,
   "metadata": {},
   "outputs": [
    {
     "name": "stdout",
     "output_type": "stream",
     "text": [
      "Test Statistic             -1.658380\n",
      "p-value                     0.452674\n",
      "Lag Used                   10.000000\n",
      "Number of Observations    472.000000\n",
      "Critical Value 1%          -3.444281\n",
      "Critical Value 5%          -2.867683\n",
      "Critical Value 10%         -2.570042\n",
      "dtype: float64\n"
     ]
    }
   ],
   "source": [
    "\n",
    "adf_test = adfuller(XOM['log'], regression = 'c', autolag='AIC')\n",
    "\n",
    "df_output = pd.Series(adf_test[0:4], index=['Test Statistic', 'p-value', 'Lag Used', 'Number of Observations'])\n",
    "\n",
    "for key, value in adf_test[4].items():\n",
    "    df_output[f'Critical Value {key}'] = value\n",
    "\n",
    "print(df_output)\n"
   ]
  },
  {
   "cell_type": "markdown",
   "metadata": {},
   "source": [
    "ΔX_t = ( ρ * X_{t-1} ) + c + ( ΣΦ_j * ΔX_{t-j} ) + ε_t\n",
    "\n",
    "So, we drop the trend in this regression\n",
    "\n",
    "Hypothesis to test: H0_1: (c, ρ) = (0, 0)\n",
    "\n",
    "For this, we will first take the Sum of Squared Residuals (SCR) of the non-constrained model, which is SCR2.\n",
    "\n",
    "Then, we will exclude 𝑐 and 𝜌 from the regression and take the SCR using only the lags. However, there’s no need to repeat this regression, as we have already performed it when we calculated SCR3_C2. So, we will simply use that value for the calculations"
   ]
  },
  {
   "cell_type": "code",
   "execution_count": 27,
   "metadata": {},
   "outputs": [
    {
     "name": "stdout",
     "output_type": "stream",
     "text": [
      "Somme des Carrés des Résidus du modele non contraint (SCR) du model_2 : 0.3365405894821779\n",
      "\n",
      "\n",
      "                            OLS Regression Results                            \n",
      "==============================================================================\n",
      "Dep. Variable:                    log   R-squared:                       0.072\n",
      "Model:                            OLS   Adj. R-squared:                  0.050\n",
      "Method:                 Least Squares   F-statistic:                     3.263\n",
      "Date:                Mon, 16 Sep 2024   Prob (F-statistic):           0.000258\n",
      "Time:                        21:07:17   Log-Likelihood:                 1040.3\n",
      "No. Observations:                 472   AIC:                            -2057.\n",
      "Df Residuals:                     460   BIC:                            -2007.\n",
      "Df Model:                          11                                         \n",
      "Covariance Type:            nonrobust                                         \n",
      "==============================================================================\n",
      "                 coef    std err          t      P>|t|      [0.025      0.975]\n",
      "------------------------------------------------------------------------------\n",
      "const          0.0345      0.021      1.655      0.099      -0.006       0.076\n",
      "ΔX_1          -0.0366      0.046     -0.789      0.431      -0.128       0.055\n",
      "ΔX_2           0.0477      0.046      1.028      0.305      -0.044       0.139\n",
      "ΔX_3          -0.0794      0.046     -1.711      0.088      -0.171       0.012\n",
      "ΔX_4           0.0401      0.046      0.869      0.385      -0.051       0.131\n",
      "ΔX_5           0.1339      0.046      2.897      0.004       0.043       0.225\n",
      "ΔX_6          -0.0103      0.046     -0.222      0.825      -0.101       0.081\n",
      "ΔX_7           0.1365      0.046      2.941      0.003       0.045       0.228\n",
      "ΔX_8          -0.0755      0.047     -1.617      0.107      -0.167       0.016\n",
      "ΔX_9           0.0044      0.047      0.093      0.926      -0.088       0.096\n",
      "ΔX_10          0.1021      0.047      2.184      0.029       0.010       0.194\n",
      "X_{t-1}       -0.0093      0.006     -1.658      0.098      -0.020       0.002\n",
      "==============================================================================\n",
      "Omnibus:                       35.513   Durbin-Watson:                   1.998\n",
      "Prob(Omnibus):                  0.000   Jarque-Bera (JB):              130.629\n",
      "Skew:                          -0.186   Prob(JB):                     4.31e-29\n",
      "Kurtosis:                       5.550   Cond. No.                         164.\n",
      "==============================================================================\n",
      "\n",
      "Notes:\n",
      "[1] Standard Errors assume that the covariance matrix of the errors is correctly specified.\n"
     ]
    }
   ],
   "source": [
    "\n",
    "Z = pd.DataFrame(lagged_diff[:, :p], columns=[f\"ΔX_{i}\" for i in range(1, p+1)], index=ΔX.index)\n",
    "Z['X_{t-1}'] = X_lagged.values\n",
    "Z = sm.add_constant(Z)  # Ajouter la constante\n",
    "\n",
    "model_2 = sm.OLS(ΔX, Z)\n",
    "results = model_2.fit()\n",
    "\n",
    "SCR2 = results.ssr\n",
    "\n",
    "print(f\"Sum of Squared Residuals (SCR) of the unconstrained model_2 : {SCR2}\")\n",
    "print(\"\\n\")\n",
    "print(results.summary())\n"
   ]
  },
  {
   "cell_type": "code",
   "execution_count": 28,
   "metadata": {},
   "outputs": [
    {
     "data": {
      "text/plain": [
       "1.375202836920497"
      ]
     },
     "execution_count": 28,
     "metadata": {},
     "output_type": "execute_result"
    }
   ],
   "source": [
    "# if F1 < Φ1 then H0_1 accepted\n",
    "\n",
    "Φ1 =  4.59\n",
    "F1 = ((SCR3_C2 - SCR2)/2) / (SCR2/(n-p-2))\n",
    "F1"
   ]
  },
  {
   "cell_type": "markdown",
   "metadata": {},
   "source": [
    "So, we have justified that the series is a pure random walk without trend and without constant. In other words, Y(t)=I(1), which is commonly written this way"
   ]
  }
 ],
 "metadata": {
  "kernelspec": {
   "display_name": "Python 3",
   "language": "python",
   "name": "python3"
  },
  "language_info": {
   "codemirror_mode": {
    "name": "ipython",
    "version": 3
   },
   "file_extension": ".py",
   "mimetype": "text/x-python",
   "name": "python",
   "nbconvert_exporter": "python",
   "pygments_lexer": "ipython3",
   "version": "3.10.4"
  }
 },
 "nbformat": 4,
 "nbformat_minor": 2
}
